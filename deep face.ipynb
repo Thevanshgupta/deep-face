{
 "cells": [
  {
   "cell_type": "code",
   "execution_count": null,
   "id": "f3d472c8-6a9e-47a4-aaa4-36b3df321839",
   "metadata": {},
   "outputs": [],
   "source": [
    "import cv2\n",
    "import os\n",
    "import random\n",
    "import numpy as np\n",
    "from matplotlib import pyplot as plt"
   ]
  },
  {
   "cell_type": "code",
   "execution_count": null,
   "id": "d4f6945e-56d9-43af-85bc-b8eac2f251f6",
   "metadata": {},
   "outputs": [],
   "source": [
    "from tensorflow.keras.models import Model\n",
    "from tensorflow.keras.layers import Layer, Conv2D, Dense,MaxPooling2D, Input, Flatten\n",
    "import tensorflow as tf\n",
    "#database will be update soon"
   ]
  },
  {
   "cell_type": "code",
   "execution_count": 10,
   "id": "b3deda5b-34b2-42b6-97f8-c928641af036",
   "metadata": {},
   "outputs": [
    {
     "ename": "NameError",
     "evalue": "name 'inputimage' is not defined",
     "output_type": "error",
     "traceback": [
      "\u001b[1;31m---------------------------------------------------------------------------\u001b[0m",
      "\u001b[1;31mNameError\u001b[0m                                 Traceback (most recent call last)",
      "Cell \u001b[1;32mIn[10], line 1\u001b[0m\n\u001b[1;32m----> 1\u001b[0m Model(inputs\u001b[38;5;241m=\u001b[39m[\u001b[43minputimage\u001b[49m, verificationimage],outputs\u001b[38;5;241m=\u001b[39m[\u001b[38;5;241m1\u001b[39m,\u001b[38;5;241m0\u001b[39m])\n",
      "\u001b[1;31mNameError\u001b[0m: name 'inputimage' is not defined"
     ]
    }
   ],
   "source": [
    " "
   ]
  },
  {
   "cell_type": "code",
   "execution_count": null,
   "id": "ce144a5a-3848-4cdc-be72-80e3450b4ffa",
   "metadata": {},
   "outputs": [],
   "source": [
    "# class L1Dist(Layer)"
   ]
  }
 ],
 "metadata": {
  "kernelspec": {
   "display_name": "Python 3 (ipykernel)",
   "language": "python",
   "name": "python3"
  },
  "language_info": {
   "codemirror_mode": {
    "name": "ipython",
    "version": 3
   },
   "file_extension": ".py",
   "mimetype": "text/x-python",
   "name": "python",
   "nbconvert_exporter": "python",
   "pygments_lexer": "ipython3",
   "version": "3.12.3"
  }
 },
 "nbformat": 4,
 "nbformat_minor": 5
}
